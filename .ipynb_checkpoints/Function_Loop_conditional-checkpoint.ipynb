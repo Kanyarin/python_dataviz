{
 "cells": [
  {
   "cell_type": "markdown",
   "metadata": {},
   "source": [
    "# Function\n",
    "### print ชื่อ XXX นามสกุล YYY รหัส ZZZ\n",
    "### print เกรด วิชา stat 1 >> AAA"
   ]
  },
  {
   "cell_type": "code",
   "execution_count": 3,
   "metadata": {},
   "outputs": [
    {
     "name": "stdout",
     "output_type": "stream",
     "text": [
      "ชื่อ กัญญ์รินท์ นามสกุล อินทจันทร์ รหัส 000\n"
     ]
    }
   ],
   "source": [
    "a = f'ชื่อ กัญญ์รินท์ นามสกุล อินทจันทร์ รหัส 000'\n",
    "print(a)"
   ]
  },
  {
   "cell_type": "code",
   "execution_count": 5,
   "metadata": {},
   "outputs": [
    {
     "name": "stdout",
     "output_type": "stream",
     "text": [
      "ชื่อ กัญญ์รินท์ นามสกุล อินทจันทร์ รหัส 000\n"
     ]
    }
   ],
   "source": [
    "name = 'กัญญ์รินท์'\n",
    "surname = 'อินทจันทร์'\n",
    "ID = '000'\n",
    "\n",
    "b = f'ชื่อ {name} นามสกุล {surname} รหัส {ID}'\n",
    "print(b)"
   ]
  },
  {
   "cell_type": "markdown",
   "metadata": {},
   "source": [
    "# function template\n",
    "```python\n",
    "def function_name(x):\n",
    "    do_something\n",
    "    return y\n",
    "```"
   ]
  },
  {
   "cell_type": "code",
   "execution_count": 11,
   "metadata": {},
   "outputs": [],
   "source": [
    "def print_line1(name1,surname1,ID1):\n",
    "    st = f'ชื่อ {name1} นามสกุล {surname1} รหัส {ID1}'\n",
    "    return st"
   ]
  },
  {
   "cell_type": "code",
   "execution_count": 12,
   "metadata": {},
   "outputs": [
    {
     "name": "stdout",
     "output_type": "stream",
     "text": [
      "ชื่อ กาญจนา นามสกุล ประสาคุณ รหัส ุ603021855-2\n"
     ]
    }
   ],
   "source": [
    "print(print_line1('กาญจนา','ประสาคุณ','ุ603021855-2'))"
   ]
  },
  {
   "cell_type": "code",
   "execution_count": 13,
   "metadata": {},
   "outputs": [],
   "source": [
    "def print_2line(name1,surname1,ID1,grade):\n",
    "    st = f'ชื่อ {name1} นามสกุล {surname1} รหัส {ID1}'\n",
    "    print(st)\n",
    "    st2 = f'เกรดวิชา stat1 >>> {grade}'\n",
    "    print(st2)"
   ]
  },
  {
   "cell_type": "code",
   "execution_count": 17,
   "metadata": {},
   "outputs": [
    {
     "name": "stdout",
     "output_type": "stream",
     "text": [
      "ชื่อ กาญจนา นามสกุล ประสาคุณ รหัส ุ603021855-2\n",
      "เกรดวิชา stat1 >>> A\n"
     ]
    }
   ],
   "source": [
    "print_2line('กาญจนา','ประสาคุณ','ุ603021855-2','A')"
   ]
  },
  {
   "cell_type": "code",
   "execution_count": 22,
   "metadata": {},
   "outputs": [
    {
     "name": "stdout",
     "output_type": "stream",
     "text": [
      "ชื่อ กัญญ์รินท์ นามสกุล อินทจันทร์ รหัส ุ603021854-4\n",
      "เกรดวิชา stat1 >>> A\n",
      "ชื่อ ภูวนัตถ์ นามสกุล จันทะกล รหัส ุ603021111-0\n",
      "เกรดวิชา stat1 >>> A\n",
      "ชื่อ ศุภนิตา นามสกุล ดาดวน รหัส ุ603021129-1\n",
      "เกรดวิชา stat1 >>> A\n",
      "ชื่อ ทรงกลด นามสกุล กะเทยเฒ่า รหัส ุ603021864-1\n",
      "เกรดวิชา stat1 >>> A\n"
     ]
    }
   ],
   "source": [
    "print_2line('กัญญ์รินท์','อินทจันทร์','ุ603021854-4','A')\n",
    "print_2line('ภูวนัตถ์','จันทะกล','ุ603021111-0','A')\n",
    "print_2line('ศุภนิตา','ดาดวน','ุ603021129-1','A')\n",
    "print_2line('ทรงกลด','กะเทยเฒ่า','ุ603021864-1','A')"
   ]
  },
  {
   "cell_type": "markdown",
   "metadata": {},
   "source": [
    "# function without input ฟังก์ชันที่ไม่มี input"
   ]
  },
  {
   "cell_type": "code",
   "execution_count": 27,
   "metadata": {},
   "outputs": [],
   "source": [
    "def two_x_three():\n",
    "    x =2*3\n",
    "    return x"
   ]
  },
  {
   "cell_type": "code",
   "execution_count": 28,
   "metadata": {},
   "outputs": [
    {
     "data": {
      "text/plain": [
       "6"
      ]
     },
     "execution_count": 28,
     "metadata": {},
     "output_type": "execute_result"
    }
   ],
   "source": [
    "two_x_three()"
   ]
  },
  {
   "cell_type": "markdown",
   "metadata": {},
   "source": [
    "# function with default argument"
   ]
  },
  {
   "cell_type": "code",
   "execution_count": 29,
   "metadata": {},
   "outputs": [],
   "source": [
    "def print_2line_default(name1,surname1,ID1,grade='f'):\n",
    "    st = f'ชื่อ {name1} นามสกุล {surname1} รหัส {ID1}'\n",
    "    print(st)\n",
    "    st2 = f'เกรดวิชา stat1 >>> {grade}'\n",
    "    print(st2)"
   ]
  },
  {
   "cell_type": "code",
   "execution_count": 32,
   "metadata": {},
   "outputs": [
    {
     "name": "stdout",
     "output_type": "stream",
     "text": [
      "ชื่อ กาญจนา นามสกุล ประสาคุณ รหัส ุ603021855-2\n",
      "เกรดวิชา stat1 >>> f\n"
     ]
    }
   ],
   "source": [
    "print_2line_default('กาญจนา','ประสาคุณ','ุ603021855-2')"
   ]
  },
  {
   "cell_type": "code",
   "execution_count": 33,
   "metadata": {},
   "outputs": [
    {
     "name": "stdout",
     "output_type": "stream",
     "text": [
      "ชื่อ กาญจนา นามสกุล ประสาคุณ รหัส ุ603021855-2\n",
      "เกรดวิชา stat1 >>> A+\n"
     ]
    }
   ],
   "source": [
    "print_2line_default('กาญจนา','ประสาคุณ','ุ603021855-2','A+')"
   ]
  },
  {
   "cell_type": "code",
   "execution_count": 37,
   "metadata": {},
   "outputs": [
    {
     "name": "stdout",
     "output_type": "stream",
     "text": [
      "ชื่อ ประสาคุณ นามสกุล กาญจนา รหัส ุ603021855-2\n",
      "เกรดวิชา stat1 >>> f\n"
     ]
    }
   ],
   "source": [
    "print_2line_default(surname1 = 'กาญจนา',name1 = 'ประสาคุณ', ID1 = 'ุ603021855-2')"
   ]
  },
  {
   "cell_type": "markdown",
   "metadata": {},
   "source": [
    "# Loop (วนซ้ำ)"
   ]
  },
  {
   "cell_type": "markdown",
   "metadata": {},
   "source": [
    "```Python\n",
    "    for each_member in listA:\n",
    "        do something\n",
    "```"
   ]
  },
  {
   "cell_type": "code",
   "execution_count": 44,
   "metadata": {},
   "outputs": [
    {
     "name": "stdout",
     "output_type": "stream",
     "text": [
      "1\n",
      "2\n",
      "3\n"
     ]
    }
   ],
   "source": [
    "for i in [1,2,3]:\n",
    "    print(i)"
   ]
  },
  {
   "cell_type": "code",
   "execution_count": 46,
   "metadata": {},
   "outputs": [
    {
     "name": "stdout",
     "output_type": "stream",
     "text": [
      "K -> /\n",
      "a -> /\n",
      "n -> /\n",
      "y -> /\n",
      "a -> /\n",
      "r -> /\n",
      "i -> /\n",
      "n -> /\n"
     ]
    }
   ],
   "source": [
    "for i in 'Kanyarin':\n",
    "    print(f'{i} -> /')"
   ]
  },
  {
   "cell_type": "markdown",
   "metadata": {},
   "source": [
    "## 1 สร้าง list ชื่อเพื่อน ที่อยู่ใน แถวยาวเดียวกัน\n",
    "## 2 วนลูป print ประโยคว่า XXXเรา YYYความรู้สึก ZZZเพื่อน ทุกคนในแถวยาว"
   ]
  },
  {
   "cell_type": "code",
   "execution_count": 48,
   "metadata": {},
   "outputs": [],
   "source": [
    "listnut = ['อีแม่','นกยูง','โด้','เกด','ฟาง','ไอซ์','แบงค์']"
   ]
  },
  {
   "cell_type": "code",
   "execution_count": 56,
   "metadata": {},
   "outputs": [
    {
     "name": "stdout",
     "output_type": "stream",
     "text": [
      "นัทรักอีแม่\n",
      "นัทรักนกยูง\n",
      "นัทรักโด้\n",
      "นัทรักเกด\n",
      "นัทรักฟาง\n",
      "นัทรักไอซ์\n",
      "นัทรักแบงค์\n"
     ]
    }
   ],
   "source": [
    "for i in listnut:\n",
    "    print('นัท''รัก' f'{i}')"
   ]
  },
  {
   "cell_type": "code",
   "execution_count": 79,
   "metadata": {},
   "outputs": [],
   "source": [
    "def print_2line(name,feel,fname):\n",
    "    st = f'{name}{feel}{fname}'\n",
    "    print(st)"
   ]
  },
  {
   "cell_type": "code",
   "execution_count": 80,
   "metadata": {},
   "outputs": [
    {
     "name": "stdout",
     "output_type": "stream",
     "text": [
      "นัทรักอีแม่\n",
      "นัทรักนกยูง\n",
      "นัทรักโด้\n",
      "นัทรักเกด\n",
      "นัทรักฟาง\n",
      "นัทรักไอซ์\n",
      "นัทรักแบงค์\n"
     ]
    }
   ],
   "source": [
    "print_2line('นัท','รัก','อีแม่')\n",
    "print_2line('นัท','รัก','นกยูง')\n",
    "print_2line('นัท','รัก','โด้')\n",
    "print_2line('นัท','รัก','เกด')\n",
    "print_2line('นัท','รัก','ฟาง')\n",
    "print_2line('นัท','รัก','ไอซ์')\n",
    "print_2line('นัท','รัก','แบงค์')"
   ]
  },
  {
   "cell_type": "markdown",
   "metadata": {},
   "source": [
    "# loop in fuction"
   ]
  },
  {
   "cell_type": "code",
   "execution_count": 73,
   "metadata": {},
   "outputs": [],
   "source": [
    "def print_feeling(I,feeling,friends):\n",
    "    for friend in friends:\n",
    "        print(f'{I} {feeling} {friend}')"
   ]
  },
  {
   "cell_type": "code",
   "execution_count": 75,
   "metadata": {},
   "outputs": [
    {
     "name": "stdout",
     "output_type": "stream",
     "text": [
      "นัท รัก อีแม่\n",
      "นัท รัก นกยูง\n",
      "นัท รัก โด้\n",
      "นัท รัก เกด\n",
      "นัท รัก ฟาง\n",
      "นัท รัก ไอซ์\n",
      "นัท รัก แบงค์\n"
     ]
    }
   ],
   "source": [
    "print_feeling('นัท','รัก',listnut)"
   ]
  },
  {
   "cell_type": "markdown",
   "metadata": {},
   "source": [
    "# looping in dict"
   ]
  },
  {
   "cell_type": "code",
   "execution_count": 82,
   "metadata": {},
   "outputs": [
    {
     "data": {
      "text/plain": [
       "{'พันทิพา': 'B', 'ศุภนิตา': 'C', 'ปนัดดา': 'A', 'ทรงกลด': 'F'}"
      ]
     },
     "execution_count": 82,
     "metadata": {},
     "output_type": "execute_result"
    }
   ],
   "source": [
    "name_grade = {'พันทิพา':'B','ศุภนิตา':'C','ปนัดดา':'A','ทรงกลด':'F'}\n",
    "name_grade"
   ]
  },
  {
   "cell_type": "code",
   "execution_count": 83,
   "metadata": {},
   "outputs": [
    {
     "data": {
      "text/plain": [
       "'A'"
      ]
     },
     "execution_count": 83,
     "metadata": {},
     "output_type": "execute_result"
    }
   ],
   "source": [
    "name_grade['ปนัดดา']"
   ]
  },
  {
   "cell_type": "code",
   "execution_count": 84,
   "metadata": {},
   "outputs": [
    {
     "data": {
      "text/plain": [
       "dict_keys(['พันทิพา', 'ศุภนิตา', 'ปนัดดา', 'ทรงกลด'])"
      ]
     },
     "execution_count": 84,
     "metadata": {},
     "output_type": "execute_result"
    }
   ],
   "source": [
    "name_grade.keys()"
   ]
  },
  {
   "cell_type": "code",
   "execution_count": 85,
   "metadata": {},
   "outputs": [
    {
     "name": "stdout",
     "output_type": "stream",
     "text": [
      "พันทิพา ได้เกรด B\n",
      "ศุภนิตา ได้เกรด C\n",
      "ปนัดดา ได้เกรด A\n",
      "ทรงกลด ได้เกรด F\n"
     ]
    }
   ],
   "source": [
    "for i in name_grade.keys():\n",
    "    print(f'{i} ได้เกรด {name_grade[i]}')"
   ]
  },
  {
   "cell_type": "code",
   "execution_count": 89,
   "metadata": {},
   "outputs": [
    {
     "data": {
      "text/plain": [
       "dict_keys(['พันทิพา', 'ศุภนิตา', 'ปนัดดา', 'ทรงกลด'])"
      ]
     },
     "execution_count": 89,
     "metadata": {},
     "output_type": "execute_result"
    }
   ],
   "source": [
    "name_grade.keys() ##ดู index"
   ]
  },
  {
   "cell_type": "markdown",
   "metadata": {},
   "source": [
    "# Conditional เงื่อนไข"
   ]
  },
  {
   "cell_type": "code",
   "execution_count": 95,
   "metadata": {},
   "outputs": [
    {
     "ename": "SyntaxError",
     "evalue": "invalid syntax (<ipython-input-95-531d26bc868e>, line 1)",
     "output_type": "error",
     "traceback": [
      "\u001b[1;36m  File \u001b[1;32m\"<ipython-input-95-531d26bc868e>\"\u001b[1;36m, line \u001b[1;32m1\u001b[0m\n\u001b[1;33m    ```python\u001b[0m\n\u001b[1;37m    ^\u001b[0m\n\u001b[1;31mSyntaxError\u001b[0m\u001b[1;31m:\u001b[0m invalid syntax\n"
     ]
    }
   ],
   "source": [
    "```python\n",
    "if condition:\n",
    "    do something\n",
    "elif condition2:\n",
    "    do another thing\n",
    "else:\n",
    "    do\n",
    "```"
   ]
  },
  {
   "cell_type": "code",
   "execution_count": 98,
   "metadata": {},
   "outputs": [
    {
     "ename": "NameError",
     "evalue": "name 'print_2' is not defined",
     "output_type": "error",
     "traceback": [
      "\u001b[1;31m---------------------------------------------------------------------------\u001b[0m",
      "\u001b[1;31mNameError\u001b[0m                                 Traceback (most recent call last)",
      "\u001b[1;32m<ipython-input-98-873146d20550>\u001b[0m in \u001b[0;36m<module>\u001b[1;34m\u001b[0m\n\u001b[0;32m      2\u001b[0m     \u001b[1;32mfor\u001b[0m \u001b[0mname2\u001b[0m \u001b[1;32min\u001b[0m \u001b[0mlistnut\u001b[0m\u001b[1;33m:\u001b[0m\u001b[1;33m\u001b[0m\u001b[1;33m\u001b[0m\u001b[0m\n\u001b[0;32m      3\u001b[0m         \u001b[1;32mif\u001b[0m \u001b[0mname1\u001b[0m \u001b[1;33m!=\u001b[0m\u001b[0mname2\u001b[0m\u001b[1;33m:\u001b[0m\u001b[1;33m\u001b[0m\u001b[1;33m\u001b[0m\u001b[0m\n\u001b[1;32m----> 4\u001b[1;33m             \u001b[0mprint_2\u001b[0m\u001b[1;33m(\u001b[0m\u001b[0mname1\u001b[0m\u001b[1;33m,\u001b[0m\u001b[1;34m'รัก'\u001b[0m\u001b[1;33m,\u001b[0m\u001b[0mname2\u001b[0m\u001b[1;33m)\u001b[0m\u001b[1;33m\u001b[0m\u001b[1;33m\u001b[0m\u001b[0m\n\u001b[0m",
      "\u001b[1;31mNameError\u001b[0m: name 'print_2' is not defined"
     ]
    }
   ],
   "source": [
    "for name1 in listnut:\n",
    "    for name2 in listnut:\n",
    "        if name1 !=name2:\n",
    "            print_2(name1,'รัก',name2)"
   ]
  },
  {
   "cell_type": "code",
   "execution_count": 99,
   "metadata": {},
   "outputs": [
    {
     "ename": "NameError",
     "evalue": "name 'true' is not defined",
     "output_type": "error",
     "traceback": [
      "\u001b[1;31m---------------------------------------------------------------------------\u001b[0m",
      "\u001b[1;31mNameError\u001b[0m                                 Traceback (most recent call last)",
      "\u001b[1;32m<ipython-input-99-43466d2c782f>\u001b[0m in \u001b[0;36m<module>\u001b[1;34m\u001b[0m\n\u001b[1;32m----> 1\u001b[1;33m \u001b[1;32mif\u001b[0m \u001b[0mtrue\u001b[0m\u001b[1;33m:\u001b[0m\u001b[1;33m\u001b[0m\u001b[1;33m\u001b[0m\u001b[0m\n\u001b[0m\u001b[0;32m      2\u001b[0m     \u001b[0mprint\u001b[0m\u001b[1;33m(\u001b[0m\u001b[1;34m'yes'\u001b[0m\u001b[1;33m)\u001b[0m\u001b[1;33m\u001b[0m\u001b[1;33m\u001b[0m\u001b[0m\n",
      "\u001b[1;31mNameError\u001b[0m: name 'true' is not defined"
     ]
    }
   ],
   "source": [
    "if true:\n",
    "    print('yes')"
   ]
  },
  {
   "cell_type": "code",
   "execution_count": null,
   "metadata": {},
   "outputs": [],
   "source": []
  }
 ],
 "metadata": {
  "kernelspec": {
   "display_name": "Python 3",
   "language": "python",
   "name": "python3"
  },
  "language_info": {
   "codemirror_mode": {
    "name": "ipython",
    "version": 3
   },
   "file_extension": ".py",
   "mimetype": "text/x-python",
   "name": "python",
   "nbconvert_exporter": "python",
   "pygments_lexer": "ipython3",
   "version": "3.7.4"
  }
 },
 "nbformat": 4,
 "nbformat_minor": 2
}
