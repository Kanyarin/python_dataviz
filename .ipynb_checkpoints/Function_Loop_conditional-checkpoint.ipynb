{
 "cells": [
  {
   "cell_type": "markdown",
   "metadata": {},
   "source": [
    "# Function\n",
    "### print ชื่อ XXX นามสกุล YYY รหัส ZZZ\n",
    "### print เกรด วิชา stat 1 >> AAA\n",
    "function ทำให้เราไม่ต้องเขียนโค้ดซ้ำหลายรอบ"
   ]
  },
  {
   "cell_type": "markdown",
   "metadata": {},
   "source": [
    "### Ex 1"
   ]
  },
  {
   "cell_type": "code",
   "execution_count": 3,
   "metadata": {},
   "outputs": [
    {
     "name": "stdout",
     "output_type": "stream",
     "text": [
      "ชื่อ กัญญ์รินท์ นามสกุล อินทจันทร์ รหัส 000\n"
     ]
    }
   ],
   "source": [
    "a = f'ชื่อ กัญญ์รินท์ นามสกุล อินทจันทร์ รหัส 000'\n",
    "print(a)"
   ]
  },
  {
   "cell_type": "markdown",
   "metadata": {},
   "source": [
    "### Ex 2\n",
    "### ถ้าจะเปลี่ยนเป็นชื่อคนอื่น"
   ]
  },
  {
   "cell_type": "code",
   "execution_count": 5,
   "metadata": {},
   "outputs": [
    {
     "name": "stdout",
     "output_type": "stream",
     "text": [
      "ชื่อ กัญญ์รินท์ นามสกุล อินทจันทร์ รหัส 000\n"
     ]
    }
   ],
   "source": [
    "name = 'กัญญ์รินท์'\n",
    "surname = 'อินทจันทร์'\n",
    "ID = '000'\n",
    "\n",
    "b = f'ชื่อ {name} นามสกุล {surname} รหัส {ID}'\n",
    "print(b)"
   ]
  },
  {
   "cell_type": "markdown",
   "metadata": {},
   "source": [
    "### def (การกำหนดนิยามของฟังก์ชั่นก่อน)\n",
    "ถ้าจะเขียนfunctiionต้องขึ้นต้นด้วยdef"
   ]
  },
  {
   "cell_type": "markdown",
   "metadata": {},
   "source": [
    "# function template\n",
    "```python\n",
    "def function_name(Input):\n",
    "    do_something\n",
    "    return output\n",
    "```"
   ]
  },
  {
   "cell_type": "markdown",
   "metadata": {},
   "source": [
    "#### normai function\n",
    "#### เว้นวรรตรง sf คือ ข้อความนี้เป็นส่วนหนึ่งของคำสั่งข้างบน"
   ]
  },
  {
   "cell_type": "code",
   "execution_count": 11,
   "metadata": {},
   "outputs": [],
   "source": [
    "def print_line1(name1,surname1,ID1):\n",
    "    st = f'ชื่อ {name1} นามสกุล {surname1} รหัส {ID1}'\n",
    "    return st"
   ]
  },
  {
   "cell_type": "code",
   "execution_count": 12,
   "metadata": {},
   "outputs": [
    {
     "name": "stdout",
     "output_type": "stream",
     "text": [
      "ชื่อ กาญจนา นามสกุล ประสาคุณ รหัส ุ603021855-2\n"
     ]
    }
   ],
   "source": [
    "print(print_line1('กาญจนา','ประสาคุณ','ุ603021855-2'))"
   ]
  },
  {
   "cell_type": "markdown",
   "metadata": {},
   "source": [
    "#### function without output\n",
    "อยากได้ฟังก์ชั่นที่ print ทั้ง 2line"
   ]
  },
  {
   "cell_type": "code",
   "execution_count": 13,
   "metadata": {},
   "outputs": [],
   "source": [
    "def print_2line(name1,surname1,ID1,grade):\n",
    "    st = f'ชื่อ {name1} นามสกุล {surname1} รหัส {ID1}'\n",
    "    print(st)\n",
    "    st2 = f'เกรดวิชา stat1 >>> {grade}'\n",
    "    print(st2)"
   ]
  },
  {
   "cell_type": "code",
   "execution_count": 17,
   "metadata": {},
   "outputs": [
    {
     "name": "stdout",
     "output_type": "stream",
     "text": [
      "ชื่อ กาญจนา นามสกุล ประสาคุณ รหัส ุ603021855-2\n",
      "เกรดวิชา stat1 >>> A\n"
     ]
    }
   ],
   "source": [
    "print_2line('กาญจนา','ประสาคุณ','ุ603021855-2','A')"
   ]
  },
  {
   "cell_type": "code",
   "execution_count": 22,
   "metadata": {},
   "outputs": [
    {
     "name": "stdout",
     "output_type": "stream",
     "text": [
      "ชื่อ กัญญ์รินท์ นามสกุล อินทจันทร์ รหัส ุ603021854-4\n",
      "เกรดวิชา stat1 >>> A\n",
      "ชื่อ ภูวนัตถ์ นามสกุล จันทะกล รหัส ุ603021111-0\n",
      "เกรดวิชา stat1 >>> A\n",
      "ชื่อ ศุภนิตา นามสกุล ดาดวน รหัส ุ603021129-1\n",
      "เกรดวิชา stat1 >>> A\n",
      "ชื่อ ทรงกลด นามสกุล กะเทยเฒ่า รหัส ุ603021864-1\n",
      "เกรดวิชา stat1 >>> A\n"
     ]
    }
   ],
   "source": [
    "print_2line('กัญญ์รินท์','อินทจันทร์','ุ603021854-4','A')\n",
    "print_2line('ภูวนัตถ์','จันทะกล','ุ603021111-0','A')\n",
    "print_2line('ศุภนิตา','ดาดวน','ุ603021129-1','A')\n",
    "print_2line('ทรงกลด','กะเทยเฒ่า','ุ603021864-1','A')"
   ]
  },
  {
   "cell_type": "markdown",
   "metadata": {},
   "source": [
    "# function without input ฟังก์ชันที่ไม่มี input"
   ]
  },
  {
   "cell_type": "code",
   "execution_count": 27,
   "metadata": {},
   "outputs": [],
   "source": [
    "def two_x_three():\n",
    "    x =2*3\n",
    "    return x"
   ]
  },
  {
   "cell_type": "code",
   "execution_count": 28,
   "metadata": {},
   "outputs": [
    {
     "data": {
      "text/plain": [
       "6"
      ]
     },
     "execution_count": 28,
     "metadata": {},
     "output_type": "execute_result"
    }
   ],
   "source": [
    "two_x_three()"
   ]
  },
  {
   "cell_type": "markdown",
   "metadata": {},
   "source": [
    "# function with default argument\n",
    "\n",
    "ถ้าไม่กรอกจะ print f ออกมาให้เอง"
   ]
  },
  {
   "cell_type": "code",
   "execution_count": 29,
   "metadata": {},
   "outputs": [],
   "source": [
    "def print_2line_default(name1,surname1,ID1,grade='f'):\n",
    "    st = f'ชื่อ {name1} นามสกุล {surname1} รหัส {ID1}'\n",
    "    print(st)\n",
    "    st2 = f'เกรดวิชา stat1 >>> {grade}'\n",
    "    print(st2)"
   ]
  },
  {
   "cell_type": "code",
   "execution_count": 32,
   "metadata": {},
   "outputs": [
    {
     "name": "stdout",
     "output_type": "stream",
     "text": [
      "ชื่อ กาญจนา นามสกุล ประสาคุณ รหัส ุ603021855-2\n",
      "เกรดวิชา stat1 >>> f\n"
     ]
    }
   ],
   "source": [
    "print_2line_default('กาญจนา','ประสาคุณ','ุ603021855-2')"
   ]
  },
  {
   "cell_type": "code",
   "execution_count": 33,
   "metadata": {},
   "outputs": [
    {
     "name": "stdout",
     "output_type": "stream",
     "text": [
      "ชื่อ กาญจนา นามสกุล ประสาคุณ รหัส ุ603021855-2\n",
      "เกรดวิชา stat1 >>> A+\n"
     ]
    }
   ],
   "source": [
    "print_2line_default('กาญจนา','ประสาคุณ','ุ603021855-2','A+')"
   ]
  },
  {
   "cell_type": "code",
   "execution_count": 37,
   "metadata": {},
   "outputs": [
    {
     "name": "stdout",
     "output_type": "stream",
     "text": [
      "ชื่อ ประสาคุณ นามสกุล กาญจนา รหัส ุ603021855-2\n",
      "เกรดวิชา stat1 >>> f\n"
     ]
    }
   ],
   "source": [
    "print_2line_default(surname1 = 'กาญจนา',name1 = 'ประสาคุณ', ID1 = 'ุ603021855-2')"
   ]
  },
  {
   "cell_type": "markdown",
   "metadata": {},
   "source": [
    "# Loop (วนซ้ำ)\n",
    "\n",
    "วนลูปสมาชิกแต่ละตัวที่อยู่ใน list"
   ]
  },
  {
   "cell_type": "markdown",
   "metadata": {},
   "source": [
    "```Python\n",
    "    for each_member in listA:\n",
    "        do something\n",
    "```"
   ]
  },
  {
   "cell_type": "code",
   "execution_count": 44,
   "metadata": {},
   "outputs": [
    {
     "name": "stdout",
     "output_type": "stream",
     "text": [
      "1\n",
      "2\n",
      "3\n"
     ]
    }
   ],
   "source": [
    "for i in [1,2,3]:\n",
    "    print(i)"
   ]
  },
  {
   "cell_type": "code",
   "execution_count": 46,
   "metadata": {},
   "outputs": [
    {
     "name": "stdout",
     "output_type": "stream",
     "text": [
      "K -> /\n",
      "a -> /\n",
      "n -> /\n",
      "y -> /\n",
      "a -> /\n",
      "r -> /\n",
      "i -> /\n",
      "n -> /\n"
     ]
    }
   ],
   "source": [
    "for i in 'Kanyarin':\n",
    "    print(f'{i} -> /')"
   ]
  },
  {
   "cell_type": "markdown",
   "metadata": {},
   "source": [
    "## 1 สร้าง list ชื่อเพื่อน ที่อยู่ใน แถวยาวเดียวกัน\n",
    "## 2 วนลูป print ประโยคว่า XXXเรา YYYความรู้สึก ZZZเพื่อน ทุกคนในแถวยาว\n",
    "สร้าง list ก่อนอันดับแรก"
   ]
  },
  {
   "cell_type": "code",
   "execution_count": 8,
   "metadata": {},
   "outputs": [],
   "source": [
    "list_name = ['อีแม่','นกยูง','โด้','เกด','ฟาง','ไอซ์','แบงค์']"
   ]
  },
  {
   "cell_type": "code",
   "execution_count": 9,
   "metadata": {},
   "outputs": [
    {
     "data": {
      "text/plain": [
       "['อีแม่', 'นกยูง', 'โด้', 'เกด', 'ฟาง', 'ไอซ์', 'แบงค์']"
      ]
     },
     "execution_count": 9,
     "metadata": {},
     "output_type": "execute_result"
    }
   ],
   "source": [
    "list_name"
   ]
  },
  {
   "cell_type": "markdown",
   "metadata": {},
   "source": [
    "## แบบที่ 1\n",
    "function in loop"
   ]
  },
  {
   "cell_type": "code",
   "execution_count": 10,
   "metadata": {},
   "outputs": [],
   "source": [
    "def print_output(I,feeling,friend):\n",
    "       print(f'{I} {feeling} {friend}')"
   ]
  },
  {
   "cell_type": "code",
   "execution_count": 11,
   "metadata": {},
   "outputs": [
    {
     "name": "stdout",
     "output_type": "stream",
     "text": [
      "นัท รัก โด้\n"
     ]
    }
   ],
   "source": [
    "print_output('นัท','รัก','โด้')"
   ]
  },
  {
   "cell_type": "code",
   "execution_count": 13,
   "metadata": {},
   "outputs": [
    {
     "name": "stdout",
     "output_type": "stream",
     "text": [
      "นัทรักอีแม่\n",
      "นัทรักนกยูง\n",
      "นัทรักโด้\n",
      "นัทรักเกด\n",
      "นัทรักฟาง\n",
      "นัทรักไอซ์\n",
      "นัทรักแบงค์\n"
     ]
    }
   ],
   "source": [
    "for i in list_name:\n",
    "    print('นัท''รัก' f'{i}')"
   ]
  },
  {
   "cell_type": "code",
   "execution_count": 19,
   "metadata": {},
   "outputs": [],
   "source": [
    "def print_2line(name,feel,fname):\n",
    "    st = f'{name}{feel}{fname}'\n",
    "    print(st)"
   ]
  },
  {
   "cell_type": "code",
   "execution_count": 20,
   "metadata": {},
   "outputs": [
    {
     "name": "stdout",
     "output_type": "stream",
     "text": [
      "นัทรักอีแม่\n",
      "นัทรักนกยูง\n",
      "นัทรักโด้\n",
      "นัทรักเกด\n",
      "นัทรักฟาง\n",
      "นัทรักไอซ์\n",
      "นัทรักแบงค์\n"
     ]
    }
   ],
   "source": [
    "print_2line('นัท','รัก','อีแม่')\n",
    "print_2line('นัท','รัก','นกยูง')\n",
    "print_2line('นัท','รัก','โด้')\n",
    "print_2line('นัท','รัก','เกด')\n",
    "print_2line('นัท','รัก','ฟาง')\n",
    "print_2line('นัท','รัก','ไอซ์')\n",
    "print_2line('นัท','รัก','แบงค์')"
   ]
  },
  {
   "cell_type": "markdown",
   "metadata": {},
   "source": [
    "# แบบที่ 2 loop in fuction\n",
    "การสร้างลูปเข้าไปในฟังก์ชั่น"
   ]
  },
  {
   "cell_type": "code",
   "execution_count": 21,
   "metadata": {},
   "outputs": [],
   "source": [
    "def print_feeling(I,feeling,friends):\n",
    "    for friend in friends:\n",
    "        print(f'{I} {feeling} {friend}')"
   ]
  },
  {
   "cell_type": "code",
   "execution_count": 22,
   "metadata": {},
   "outputs": [
    {
     "name": "stdout",
     "output_type": "stream",
     "text": [
      "นัท รัก อีแม่\n",
      "นัท รัก นกยูง\n",
      "นัท รัก โด้\n",
      "นัท รัก เกด\n",
      "นัท รัก ฟาง\n",
      "นัท รัก ไอซ์\n",
      "นัท รัก แบงค์\n"
     ]
    }
   ],
   "source": [
    "print_feeling('นัท','รัก',list_name)"
   ]
  },
  {
   "cell_type": "markdown",
   "metadata": {},
   "source": [
    "# looping in dict \n",
    "วนลูปใน dict"
   ]
  },
  {
   "cell_type": "code",
   "execution_count": 23,
   "metadata": {},
   "outputs": [
    {
     "data": {
      "text/plain": [
       "{'พันทิพา': 'B', 'ศุภนิตา': 'C', 'ปนัดดา': 'A', 'ทรงกลด': 'F'}"
      ]
     },
     "execution_count": 23,
     "metadata": {},
     "output_type": "execute_result"
    }
   ],
   "source": [
    "name_grade = {'พันทิพา':'B','ศุภนิตา':'C','ปนัดดา':'A','ทรงกลด':'F'}\n",
    "name_grade"
   ]
  },
  {
   "cell_type": "code",
   "execution_count": 24,
   "metadata": {},
   "outputs": [
    {
     "data": {
      "text/plain": [
       "'A'"
      ]
     },
     "execution_count": 24,
     "metadata": {},
     "output_type": "execute_result"
    }
   ],
   "source": [
    "name_grade['ปนัดดา']"
   ]
  },
  {
   "cell_type": "code",
   "execution_count": 25,
   "metadata": {},
   "outputs": [
    {
     "data": {
      "text/plain": [
       "dict_keys(['พันทิพา', 'ศุภนิตา', 'ปนัดดา', 'ทรงกลด'])"
      ]
     },
     "execution_count": 25,
     "metadata": {},
     "output_type": "execute_result"
    }
   ],
   "source": [
    "name_grade.keys()"
   ]
  },
  {
   "cell_type": "code",
   "execution_count": 26,
   "metadata": {},
   "outputs": [
    {
     "name": "stdout",
     "output_type": "stream",
     "text": [
      "พันทิพา ได้เกรด B\n",
      "ศุภนิตา ได้เกรด C\n",
      "ปนัดดา ได้เกรด A\n",
      "ทรงกลด ได้เกรด F\n"
     ]
    }
   ],
   "source": [
    "for i in name_grade.keys():\n",
    "    print(f'{i} ได้เกรด {name_grade[i]}')"
   ]
  },
  {
   "cell_type": "code",
   "execution_count": 27,
   "metadata": {},
   "outputs": [
    {
     "data": {
      "text/plain": [
       "dict_keys(['พันทิพา', 'ศุภนิตา', 'ปนัดดา', 'ทรงกลด'])"
      ]
     },
     "execution_count": 27,
     "metadata": {},
     "output_type": "execute_result"
    }
   ],
   "source": [
    "name_grade.keys() ##ดู index"
   ]
  },
  {
   "cell_type": "markdown",
   "metadata": {},
   "source": [
    "### loop in loop\n",
    "ลูปสามารถซ้อนลูปได้\n",
    "โดย ลูป 1 เปลี่ยนชื่อข้างหน้า ลูป 2 เปลี่ยนชื่อข้างหลัง"
   ]
  },
  {
   "cell_type": "code",
   "execution_count": 30,
   "metadata": {},
   "outputs": [
    {
     "name": "stdout",
     "output_type": "stream",
     "text": [
      "อีแม่ รัก อีแม่\n",
      "อีแม่ รัก นกยูง\n",
      "อีแม่ รัก โด้\n",
      "อีแม่ รัก เกด\n",
      "อีแม่ รัก ฟาง\n",
      "อีแม่ รัก ไอซ์\n",
      "อีแม่ รัก แบงค์\n",
      "นกยูง รัก อีแม่\n",
      "นกยูง รัก นกยูง\n",
      "นกยูง รัก โด้\n",
      "นกยูง รัก เกด\n",
      "นกยูง รัก ฟาง\n",
      "นกยูง รัก ไอซ์\n",
      "นกยูง รัก แบงค์\n",
      "โด้ รัก อีแม่\n",
      "โด้ รัก นกยูง\n",
      "โด้ รัก โด้\n",
      "โด้ รัก เกด\n",
      "โด้ รัก ฟาง\n",
      "โด้ รัก ไอซ์\n",
      "โด้ รัก แบงค์\n",
      "เกด รัก อีแม่\n",
      "เกด รัก นกยูง\n",
      "เกด รัก โด้\n",
      "เกด รัก เกด\n",
      "เกด รัก ฟาง\n",
      "เกด รัก ไอซ์\n",
      "เกด รัก แบงค์\n",
      "ฟาง รัก อีแม่\n",
      "ฟาง รัก นกยูง\n",
      "ฟาง รัก โด้\n",
      "ฟาง รัก เกด\n",
      "ฟาง รัก ฟาง\n",
      "ฟาง รัก ไอซ์\n",
      "ฟาง รัก แบงค์\n",
      "ไอซ์ รัก อีแม่\n",
      "ไอซ์ รัก นกยูง\n",
      "ไอซ์ รัก โด้\n",
      "ไอซ์ รัก เกด\n",
      "ไอซ์ รัก ฟาง\n",
      "ไอซ์ รัก ไอซ์\n",
      "ไอซ์ รัก แบงค์\n",
      "แบงค์ รัก อีแม่\n",
      "แบงค์ รัก นกยูง\n",
      "แบงค์ รัก โด้\n",
      "แบงค์ รัก เกด\n",
      "แบงค์ รัก ฟาง\n",
      "แบงค์ รัก ไอซ์\n",
      "แบงค์ รัก แบงค์\n"
     ]
    }
   ],
   "source": [
    "for name1 in list_name:\n",
    "        for name2 in list_name:\n",
    "            print_output(name1,'รัก',name2)"
   ]
  },
  {
   "cell_type": "markdown",
   "metadata": {},
   "source": [
    "# Conditional เงื่อนไข\n",
    "### ==, != , >= , <= , < , >\n",
    "### == คือ ตัวข้างหน้าเท่ากับตัวข้างหลังไหม\n",
    "### != คือ ไม่เท่ากับ"
   ]
  },
  {
   "cell_type": "markdown",
   "metadata": {},
   "source": [
    "```Python\n",
    "if condition:\n",
    "    do something\n",
    "elif condition2:\n",
    "    do another thing\n",
    "else:\n",
    "    do\n",
    "```"
   ]
  },
  {
   "cell_type": "markdown",
   "metadata": {},
   "source": [
    "ต้องการแค่ให้คนแรกรักกัน"
   ]
  },
  {
   "cell_type": "code",
   "execution_count": 38,
   "metadata": {},
   "outputs": [
    {
     "name": "stdout",
     "output_type": "stream",
     "text": [
      "อีแม่ รัก นกยูง\n",
      "อีแม่ รัก โด้\n",
      "อีแม่ รัก เกด\n",
      "อีแม่ รัก ฟาง\n",
      "อีแม่ รัก ไอซ์\n",
      "อีแม่ รัก แบงค์\n",
      "นกยูง รัก อีแม่\n",
      "นกยูง รัก โด้\n",
      "นกยูง รัก เกด\n",
      "นกยูง รัก ฟาง\n",
      "นกยูง รัก ไอซ์\n",
      "นกยูง รัก แบงค์\n",
      "โด้ รัก อีแม่\n",
      "โด้ รัก นกยูง\n",
      "โด้ รัก เกด\n",
      "โด้ รัก ฟาง\n",
      "โด้ รัก ไอซ์\n",
      "โด้ รัก แบงค์\n",
      "เกด รัก อีแม่\n",
      "เกด รัก นกยูง\n",
      "เกด รัก โด้\n",
      "เกด รัก ฟาง\n",
      "เกด รัก ไอซ์\n",
      "เกด รัก แบงค์\n",
      "ฟาง รัก อีแม่\n",
      "ฟาง รัก นกยูง\n",
      "ฟาง รัก โด้\n",
      "ฟาง รัก เกด\n",
      "ฟาง รัก ไอซ์\n",
      "ฟาง รัก แบงค์\n",
      "ไอซ์ รัก อีแม่\n",
      "ไอซ์ รัก นกยูง\n",
      "ไอซ์ รัก โด้\n",
      "ไอซ์ รัก เกด\n",
      "ไอซ์ รัก ฟาง\n",
      "ไอซ์ รัก แบงค์\n",
      "แบงค์ รัก อีแม่\n",
      "แบงค์ รัก นกยูง\n",
      "แบงค์ รัก โด้\n",
      "แบงค์ รัก เกด\n",
      "แบงค์ รัก ฟาง\n",
      "แบงค์ รัก ไอซ์\n"
     ]
    }
   ],
   "source": [
    "for name1 in list_name:\n",
    "        for name2 in list_name:\n",
    "            if name1 != name2:\n",
    "                 print_output(name1,'รัก',name2)"
   ]
  },
  {
   "cell_type": "code",
   "execution_count": 40,
   "metadata": {},
   "outputs": [
    {
     "name": "stdout",
     "output_type": "stream",
     "text": [
      "Yes\n"
     ]
    }
   ],
   "source": [
    "if True:\n",
    "    print('Yes')"
   ]
  },
  {
   "cell_type": "code",
   "execution_count": 41,
   "metadata": {},
   "outputs": [
    {
     "name": "stdout",
     "output_type": "stream",
     "text": [
      "No\n"
     ]
    }
   ],
   "source": [
    "if False:\n",
    "    print('Yes')\n",
    "else:\n",
    "    print('No')"
   ]
  },
  {
   "cell_type": "code",
   "execution_count": 42,
   "metadata": {},
   "outputs": [
    {
     "data": {
      "text/plain": [
       "True"
      ]
     },
     "execution_count": 42,
     "metadata": {},
     "output_type": "execute_result"
    }
   ],
   "source": [
    "1 == 1"
   ]
  },
  {
   "cell_type": "code",
   "execution_count": 43,
   "metadata": {},
   "outputs": [
    {
     "name": "stdout",
     "output_type": "stream",
     "text": [
      "1=1\n"
     ]
    }
   ],
   "source": [
    "if 1 == 1:\n",
    "    print('1=1')"
   ]
  },
  {
   "cell_type": "markdown",
   "metadata": {},
   "source": [
    "## HW\n",
    "เขียนฟังก์ชั่นตัดเกรด โดยที่ input เป็นคะแนน(0-100) output เป็นเกรด(F-A) input [1,50,65,90,101,-5,49]"
   ]
  },
  {
   "cell_type": "code",
   "execution_count": 44,
   "metadata": {},
   "outputs": [],
   "source": [
    "grade = [1,50,65,90,101,-5,49]"
   ]
  },
  {
   "cell_type": "code",
   "execution_count": 45,
   "metadata": {},
   "outputs": [
    {
     "name": "stdout",
     "output_type": "stream",
     "text": [
      "error\n",
      "ได้เกรด D\n",
      "ได้เกรด C+\n",
      "ได้เกรด A\n",
      "ได้เกรด A\n",
      "ได้เกรด F\n",
      "error\n"
     ]
    }
   ],
   "source": [
    "for i in grade :\n",
    "    if i >79:\n",
    "        print('ได้เกรด A')\n",
    "    elif i >74:\n",
    "        print('ได้เกรด B+')\n",
    "    elif i >69:\n",
    "        print('ได้เกรด B')\n",
    "    elif i >64:\n",
    "        print('ได้เกรด C+')\n",
    "    elif i >59:\n",
    "        print('ได้เกรด C')\n",
    "    elif i >54:\n",
    "        print('ได้เกรด D+')\n",
    "    elif i >49:\n",
    "        print('ได้เกรด D')\n",
    "    elif i <0:\n",
    "        print('ได้เกรด F')\n",
    "    else:\n",
    "        print('error')"
   ]
  },
  {
   "cell_type": "code",
   "execution_count": null,
   "metadata": {},
   "outputs": [],
   "source": []
  },
  {
   "cell_type": "code",
   "execution_count": null,
   "metadata": {},
   "outputs": [],
   "source": []
  }
 ],
 "metadata": {
  "kernelspec": {
   "display_name": "Python 3",
   "language": "python",
   "name": "python3"
  },
  "language_info": {
   "codemirror_mode": {
    "name": "ipython",
    "version": 3
   },
   "file_extension": ".py",
   "mimetype": "text/x-python",
   "name": "python",
   "nbconvert_exporter": "python",
   "pygments_lexer": "ipython3",
   "version": "3.7.4"
  }
 },
 "nbformat": 4,
 "nbformat_minor": 2
}
